{
 "cells": [
  {
   "cell_type": "code",
   "execution_count": 106,
   "metadata": {},
   "outputs": [],
   "source": [
    "# Libraries\n",
    "import time\n",
    "import matplotlib.pyplot as plt\n",
    "import numpy as np\n",
    "import sympy as sp\n",
    "from scipy import integrate, special"
   ]
  },
  {
   "cell_type": "markdown",
   "metadata": {},
   "source": [
    "# Calculation\n",
    "\n",
    "## Crossing Angle"
   ]
  },
  {
   "cell_type": "code",
   "execution_count": 100,
   "metadata": {},
   "outputs": [
    {
     "name": "stdout",
     "output_type": "stream",
     "text": [
      "sqrt(2)*sqrt(pi)\n"
     ]
    }
   ],
   "source": [
    "a = 2\n",
    "f = sp.exp(-x**2/a)\n",
    "print(f.integrate((x, -sp.oo, sp.oo)))"
   ]
  },
  {
   "cell_type": "code",
   "execution_count": 101,
   "metadata": {},
   "outputs": [
    {
     "name": "stdout",
     "output_type": "stream",
     "text": [
      "exp(-(2*s**2*cos(phi/2)**2 + 2*s0**2 - 4*s0*x*sin(phi/2) + 2*x**2*sin(phi/2)**2)/(2*sz) - y**2/sy + (-2*s**2*sin(phi/2)**2 - 2*x**2*cos(phi/2)**2)/(2*sx))\n"
     ]
    }
   ],
   "source": [
    "x, y, s, s0, phi, sx, sy, sz = sp.symbols('x, y, s, s0, phi, sx, sy, sz')\n",
    "\n",
    "x1 = x*sp.cos(phi/2) - s*sp.sin(phi/2)\n",
    "x2 = x*sp.cos(phi/2) + s*sp.sin(phi/2)\n",
    "s1 = s*sp.cos(phi/2) + x*sp.sin(phi/2)\n",
    "s2 = s*sp.cos(phi/2) - x*sp.sin(phi/2)\n",
    "\n",
    "xtot = sp.expand(x1**2 + x2**2)\n",
    "stot = sp.expand((s1 - s0)**2 + (s2 + s0)**2)\n",
    "Integrand_xys0 = sp.exp(-xtot/(2*sx) - y**2/sy - stot/(2*sz))\n",
    "print(Integrand_xys0)"
   ]
  },
  {
   "cell_type": "markdown",
   "metadata": {},
   "source": [
    "Integrate wrt y and s0:\n",
    "\n",
    "$= \\cos^2(\\frac{\\phi}{2})fN_1N_2\\int_{-\\infty}^{\\infty}\n",
    "\\frac{1}{4\\pi^2\\epsilon_x\\sqrt{\\epsilon_y}\\beta^{1.5}\\sigma_z}\n",
    "$exp$(-(\\frac{ s^2\\sin^2(\\frac{\\phi}{2}) + x^2\\cos^2(\\frac{\\phi}{2}) }{\\beta\\epsilon_x})) \n",
    "$exp$(-(\\frac{ s^2\\cos^2(\\frac{\\phi}{2}) + x^2\\sin^2(\\frac{\\phi}{2}) }{\\sigma_z^2}))$ dxds\n",
    "\n",
    "$= \\cos^2(\\frac{\\phi}{2})fN_1N_2\\int_{-\\infty}^{\\infty}\n",
    "\\frac{1}{4\\pi^2\\epsilon_x\\sqrt{\\epsilon_y}\\beta^{1.5}\\sigma_z}\n",
    "$exp$(-x^2(\\frac{ \\cos^2(\\frac{\\phi}{2}) }{\\beta\\epsilon_x} + \\frac{\\sin^2(\\frac{\\phi}{2})}{\\sigma_z^2} ))\n",
    "$exp$(-s^2(\\frac{ \\sin^2(\\frac{\\phi}{2}) }{\\beta\\epsilon_x} + \\frac{\\cos^2(\\frac{\\phi}{2})}{\\sigma_z^2} ))$ dxds\n",
    "\n",
    "Integrate wrt x:\n",
    "\n",
    "$= \\cos^2(\\frac{\\phi}{2})fN_1N_2\\int_{-\\infty}^{\\infty}\n",
    "\\frac{1}{4\\pi^{1.5}\\epsilon_x\\sqrt{\\epsilon_y}\\beta^{1.5}\\sigma_z\n",
    "\\sqrt{\\frac{ \\cos^2(\\frac{\\phi}{2}) }{\\beta\\epsilon_x} + \\frac{\\sin^2(\\frac{\\phi}{2})}{\\sigma_z^2}} }\n",
    "$exp$(-s^2(\\frac{ \\sin^2(\\frac{\\phi}{2}) }{\\beta\\epsilon_x} + \\frac{\\cos^2(\\frac{\\phi}{2})}{\\sigma_z^2} ))$ ds\n",
    "\n",
    "$= L_0\\int_{-\\infty}^{\\infty}\n",
    "\\frac{\\cos^2(\\frac{\\phi}{2})}{\\sqrt{\\pi}\\sigma_{x0}(1 + (\\frac{s}{\\beta^*})^2)^{1.5}\\sigma_z\n",
    "\\sqrt{\\frac{ \\cos^2(\\frac{\\phi}{2}) }{\\beta\\epsilon_x} + \\frac{\\sin^2(\\frac{\\phi}{2})}{\\sigma_z^2}} }\n",
    "$exp$(-s^2(\\frac{ \\sin^2(\\frac{\\phi}{2}) }{\\beta\\epsilon_x} + \\frac{\\cos^2(\\frac{\\phi}{2})}{\\sigma_z^2} ))$ ds\n"
   ]
  },
  {
   "cell_type": "code",
   "execution_count": 102,
   "metadata": {},
   "outputs": [
    {
     "name": "stdout",
     "output_type": "stream",
     "text": [
      "(bs*(1 + s**2/bs**2))**(-1.5)*(sin(phi/2)**2/sz**2 + cos(phi/2)**2/(bs*ex*(1 + s**2/bs**2)))**(-0.5)*exp(-s**2*(cos(phi/2)**2/sz**2 + sin(phi/2)**2/(bs*ex*(1 + s**2/bs**2))))\n"
     ]
    }
   ],
   "source": [
    "beta_star, ex = sp.symbols('bs, ex')\n",
    "beta = beta_star*(1 + (s/beta_star)**2)\n",
    "Integrand_s = (1/((beta)**(1.5)*(sp.cos(phi/2)**2/(beta*ex) + sp.sin(phi/2)**2/sz**2)**.5)*\n",
    "               sp.exp(-s**2*(sp.sin(phi/2)**2/(beta*ex) + sp.cos(phi/2)**2/sz**2)))\n",
    "print(Integrand_s)\n",
    "#integrating in sympy is very slow -> no analytical solution"
   ]
  },
  {
   "cell_type": "markdown",
   "metadata": {},
   "source": [
    "## Scipy Quad:"
   ]
  },
  {
   "cell_type": "code",
   "execution_count": 204,
   "metadata": {},
   "outputs": [],
   "source": [
    "#Integrand to evaluate from -inf to inf\n",
    "def Integrand_scipy(s, beta_star, ex, sz, phi):\n",
    "    beta = beta_star*(1 + (s/beta_star)**2)\n",
    "    sx = np.sqrt(ex*beta_star)\n",
    "    denom = (beta/beta_star)**(1.5)*sz*(np.cos(phi/2)**2/(beta*ex) + np.sin(phi/2)**2/sz**2)**.5*np.pi**.5*sx\n",
    "    num = np.exp(-s**2*(np.sin(phi/2)**2/(beta*ex) + np.cos(phi/2)**2/sz**2))\n",
    "    return num/denom"
   ]
  },
  {
   "cell_type": "code",
   "execution_count": 232,
   "metadata": {},
   "outputs": [],
   "source": [
    "# Initial conditions\n",
    "f = 1\n",
    "N1 = 1\n",
    "N2 = 1\n",
    "beta_star = 1\n",
    "ex = 1\n",
    "ey = 1\n",
    "sx = np.sqrt(ex*beta_star)\n",
    "sy = np.sqrt(ey*beta_star)\n",
    "sz = 1\n",
    "phi = 0#np.pi/180 #1 degree"
   ]
  },
  {
   "cell_type": "code",
   "execution_count": 233,
   "metadata": {},
   "outputs": [
    {
     "name": "stdout",
     "output_type": "stream",
     "text": [
      "Normalized Luminosity for beta*/sigma_s = 1.000000: 0.7578721561413122\n"
     ]
    }
   ],
   "source": [
    "# Using Scipy\n",
    "Luminosity_int = lambda beta_star, ex, sz, phi: integrate.quad(Integrand_scipy, -np.inf, np.inf, \n",
    "                                                               args = (beta_star, ex, sz, phi))[0]\n",
    "res = Luminosity_int(beta_star, ex, sz, phi)*np.cos(phi/2)**2\n",
    "L0 = f*N1*N2/(4*np.pi*sx*sy)\n",
    "print(\"Normalized Luminosity for beta*/sigma_s = %f:\"%(beta_star/sz), res)"
   ]
  },
  {
   "cell_type": "code",
   "execution_count": 234,
   "metadata": {},
   "outputs": [
    {
     "data": {
      "image/png": "[encoded data removed]",
      "text/plain": [
       "<Figure size 432x288 with 1 Axes>"
      ]
     },
     "metadata": {
      "needs_background": "light"
     },
     "output_type": "display_data"
    }
   ],
   "source": [
    "N = 100\n",
    "Phi = np.linspace(0, np.pi, N + 1)\n",
    "Luminosities = np.zeros(N + 1)\n",
    "beta_star = np.array([.1, .5, 1, 2, 5, 10, 20])\n",
    "for b_star in beta_star:\n",
    "    for i, p in enumerate(Phi):\n",
    "        Luminosities[i] = Luminosity_int(b_star, ex, 1, p)*np.cos(p/2)**2\n",
    "    plt.plot(Phi, Luminosities, label = r\"($\\beta*/\\sigma_z$ = %f)\"%b_star)\n",
    "plt.title(r\"Crossing angle with Hourglass Effect\")\n",
    "plt.legend()\n",
    "plt.ylabel(r\"L/$L_0$\")\n",
    "plt.xlabel(r\"$\\phi_c$\")\n",
    "plt.show()"
   ]
  },
  {
   "cell_type": "markdown",
   "metadata": {},
   "source": []
  },
  {
   "cell_type": "code",
   "execution_count": null,
   "metadata": {},
   "outputs": [],
   "source": []
  }
 ],
 "metadata": {
  "kernelspec": {
   "display_name": "Python 3",
   "language": "python",
   "name": "python3"
  },
  "language_info": {
   "codemirror_mode": {
    "name": "ipython",
    "version": 3
   },
   "file_extension": ".py",
   "mimetype": "text/x-python",
   "name": "python",
   "nbconvert_exporter": "python",
   "pygments_lexer": "ipython3",
   "version": "3.7.3"
  }
 },
 "nbformat": 4,
 "nbformat_minor": 2
}
