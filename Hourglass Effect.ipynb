{
 "cells": [
  {
   "cell_type": "code",
   "execution_count": 1,
   "metadata": {},
   "outputs": [],
   "source": [
    "# Libraries\n",
    "import numpy as np\n",
    "import time\n",
    "from scipy import integrate, special\n",
    "import matplotlib.pyplot as plt"
   ]
  },
  {
   "cell_type": "markdown",
   "metadata": {},
   "source": [
    "# Calculation\n",
    "From Luminosity calculation:\n",
    "\n",
    "$L = 2fN_1N_2\\int_{-\\infty}^{\\infty}\\int_{-\\infty}^{\\infty}\\int_{-\\infty}^{\\infty}\\int_{-\\infty}^{\\infty} \\rho_1(x, y, z_1(s, s_0)) \\rho_2(x, y, z_2(s, s_0))$ dx dy ds d$s_0$\\\n",
    "$ = 2fN_1N_2\\int_{-\\infty}^{\\infty}\\int_{-\\infty}^{\\infty}\\int_{-\\infty}^{\\infty}\\int_{-\\infty}^{\\infty}\n",
    "\\frac{1}{(2\\pi)^3(\\sigma_x\\sigma_y\\sigma_z)^2}$exp$(-(\\frac{x}{\\sigma_x})^2 + (\\frac{y}{\\sigma_y})^2 + (\\frac{s}{\\sigma_z})^2 + (\\frac{s_0}{\\sigma_z})^2)$ dx dy ds d$s_0$\\\n",
    "$ = \\frac{fN_1N_2}{4\\pi\\sigma_x\\sigma_y}$\n",
    "\n",
    "## Hourglass Effect\n",
    "This assumes constant $\\beta$ in s direction since $\\sigma_x$ and $\\sigma_y$ are kept constant:\\\n",
    "$L_0 = \\frac{fN_1N_2}{4\\pi\\sigma_x\\sigma_y}$\\\n",
    "Beta function is at its minimum at the interaction point, approximately a parabolic curve around s:\\\n",
    "$\\beta(s) = \\beta^*(1 + (\\frac{s}{\\beta^*})^2)$\\\n",
    "And $\\sigma_x$ and y depend on $\\beta(s)$ like:\\\n",
    "$\\sigma_i(s) = \\sqrt{\\epsilon_i\\beta(s)}$ for $i = x, y$\n",
    "\n",
    "Do integral where $\\sigma_i$ is s dependent:\\\n",
    "$\\Longrightarrow \n",
    "L = 2fN_1N_2\\int_{-\\infty}^{\\infty}\\int_{-\\infty}^{\\infty}\\int_{-\\infty}^{\\infty}\\int_{-\\infty}^{\\infty}\n",
    "\\frac{1}{(2\\pi)^3(\\sigma_x(s)\\sigma_y(s)\\sigma_z)^2}$exp$(-(\\frac{x}{\\sigma_x(s)})^2 + (\\frac{y}{\\sigma_y(s)})^2 + (\\frac{s}{\\sigma_z})^2 + (\\frac{s_0}{\\sigma_z})^2)$ dx dy ds d$s_0$\n",
    "\n",
    "$= 2fN_1N_2\\int_{-\\infty}^{\\infty}\\int_{-\\infty}^{\\infty}\\int_{-\\infty}^{\\infty}\\int_{-\\infty}^{\\infty}\n",
    "\\frac{1}{(2\\pi)^3\\epsilon_x\\epsilon_y(\\beta^*)^2(1 + (\\frac{s}{\\beta^*})^2)^2\\sigma_z^2}\n",
    "$exp$(-(\\frac{x}{\\epsilon_x\\beta^*(1 + (\\frac{s}{\\beta^*})^2)})^2 + (\\frac{y}{\\epsilon_y\\beta^*(1 + (\\frac{s}{\\beta^*})^2)})^2 + (\\frac{s}{\\sigma_z})^2 + (\\frac{s_0}{\\sigma_z})^2)$ dx dy ds d$s_0$\n",
    "\n",
    "From Fubini's Theorem, we are able to integrate with respect to x, y, and $s_0$ first:\\\n",
    "$= fN_1N_2\\int_{-\\infty}^{\\infty}\n",
    "\\frac{1}{4\\pi\\sqrt{\\epsilon_x\\epsilon_y}\\beta^*(1 + (\\frac{s}{\\beta^*})^2)\\sigma_z}\\frac{1}{\\sqrt{\\pi}}\n",
    "$exp$(-(\\frac{s}{\\sigma_z})^2)$ ds\n",
    "\n",
    "$\\sigma_i$ at IP $(s = 0) = \\sqrt{\\epsilon_i\\beta^*}$\\\n",
    "Then:\\\n",
    "$L = L_0\\int_{-\\infty}^{\\infty}\\frac{1}{(1 + (\\frac{s}{\\beta^*})^2)\\sigma_z}\\frac{1}{\\sqrt{\\pi}}\n",
    "$exp$(-(\\frac{s}{\\sigma_z})^2)$ ds\n",
    "\n",
    "Substitutions: $u = \\frac{s}{\\sigma_z}$ and $u_s = \\frac{\\beta^*}{\\sigma_z}$:\\\n",
    "$\\Rightarrow L = L_0\\int_{-\\infty}^{\\infty}\\frac{1}{\\sqrt{\\pi}}\\frac{e^{-u^2}}{(1 + (\\frac{u}{u_s})^2)}$ du"
   ]
  },
  {
   "cell_type": "markdown",
   "metadata": {},
   "source": [
    "## 1. Scipy Quad:"
   ]
  },
  {
   "cell_type": "code",
   "execution_count": 2,
   "metadata": {},
   "outputs": [],
   "source": [
    "#Integrand to evaluate from -inf to inf\n",
    "def Integrand(u, us):\n",
    "    return np.exp(-u**2)/(1 + (u/us)**2)/np.sqrt(np.pi)"
   ]
  },
  {
   "cell_type": "code",
   "execution_count": 3,
   "metadata": {},
   "outputs": [],
   "source": [
    "# Initial conditions\n",
    "f = 1\n",
    "N1 = 1\n",
    "N2 = 1\n",
    "beta_star = 1\n",
    "ex = 1\n",
    "ey = 1\n",
    "sx = np.sqrt(ex*beta_star)\n",
    "sy = np.sqrt(ey*beta_star)\n",
    "sz = 1"
   ]
  },
  {
   "cell_type": "code",
   "execution_count": 6,
   "metadata": {},
   "outputs": [
    {
     "name": "stdout",
     "output_type": "stream",
     "text": [
      "Normalized Luminosity for beta*/sigma_s = 1.000000: 0.7578721561413122\n"
     ]
    }
   ],
   "source": [
    "# Using Scipy\n",
    "Luminosity_int = lambda sz, beta_star: integrate.quad(Integrand, -np.inf, np.inf, args = (beta_star/sz))[0]\n",
    "res = Luminosity_int(sz, beta_star)\n",
    "L0 = f*N1*N2/(4*np.pi*sx*sy)\n",
    "print(\"Normalized Luminosity for beta*/sigma_s = %f:\"%(beta_star/sz), res)"
   ]
  },
  {
   "cell_type": "code",
   "execution_count": 11,
   "metadata": {},
   "outputs": [
    {
     "data": {
      "image/png": "[encoded data removed]",
      "text/plain": [
       "<Figure size 432x288 with 1 Axes>"
      ]
     },
     "metadata": {
      "needs_background": "light"
     },
     "output_type": "display_data"
    }
   ],
   "source": [
    "N = 100\n",
    "Beta_star = np.linspace(1, 300, N + 1)/100\n",
    "Luminosities = np.zeros(N + 1)\n",
    "for i, b in enumerate(Beta_star):\n",
    "    Luminosities[i] = Luminosity_int(1, b)\n",
    "plt.plot(Beta_star, Luminosities)\n",
    "plt.title(\"Hourglass Effect\")\n",
    "plt.ylabel(r\"L/$L_0$\")\n",
    "plt.xlabel(r\"$u_s = \\beta*/\\sigma_z$\")\n",
    "plt.show()"
   ]
  },
  {
   "cell_type": "markdown",
   "metadata": {},
   "source": [
    "For $u_s = \\frac{\\beta^*}{\\sigma_z} >> 1$, hourglass effect vanishes since integral approaches 1"
   ]
  },
  {
   "cell_type": "markdown",
   "metadata": {},
   "source": [
    "## 2. Analytical Solution:\n",
    "$L = L_0u_se^{u_s^2}\\pi(\\frac{u_s}{|u_s|} - 1 +$ erfc$(u_s))$"
   ]
  },
  {
   "cell_type": "code",
   "execution_count": 12,
   "metadata": {},
   "outputs": [
    {
     "data": {
      "image/png": "[encoded data removed]",
      "text/plain": [
       "<Figure size 432x288 with 1 Axes>"
      ]
     },
     "metadata": {
      "needs_background": "light"
     },
     "output_type": "display_data"
    }
   ],
   "source": [
    "Luminosity_int_true = lambda u_s: u_s*np.exp(u_s**2)*(u_s/np.abs(u_s) - 1 + special.erfc(u_s))*(np.sqrt(np.pi))\n",
    "Luminosities_true = np.zeros(N + 1)\n",
    "for i, b in enumerate(Beta_star):\n",
    "    Luminosities_true[i] = Luminosity_int_true(b)\n",
    "plt.plot(Beta_star, Luminosities_true)\n",
    "plt.title(\"Integral Evaluated analytically\")\n",
    "plt.ylabel(r\"L/$L_0$\")\n",
    "plt.xlabel(r\"$u_s = \\beta*/\\sigma_z$\")\n",
    "plt.show()"
   ]
  },
  {
   "cell_type": "code",
   "execution_count": null,
   "metadata": {},
   "outputs": [],
   "source": []
  }
 ],
 "metadata": {
  "kernelspec": {
   "display_name": "Python 3",
   "language": "python",
   "name": "python3"
  },
  "language_info": {
   "codemirror_mode": {
    "name": "ipython",
    "version": 3
   },
   "file_extension": ".py",
   "mimetype": "text/x-python",
   "name": "python",
   "nbconvert_exporter": "python",
   "pygments_lexer": "ipython3",
   "version": "3.7.3"
  }
 },
 "nbformat": 4,
 "nbformat_minor": 2
}
