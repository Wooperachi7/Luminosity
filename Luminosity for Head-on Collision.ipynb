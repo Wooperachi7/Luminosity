{
 "cells": [
  {
   "cell_type": "code",
   "execution_count": 1,
   "metadata": {},
   "outputs": [],
   "source": [
    "# Libraries\n",
    "import numpy as np\n",
    "import time\n",
    "from scipy import integrate"
   ]
  },
  {
   "cell_type": "markdown",
   "metadata": {},
   "source": [
    "# Luminosity\n",
    "\n",
    "Four Integrals:\n",
    "\n",
    "$L = 2fN_1N_2\\int_{-\\infty}^{\\infty}\\int_{-\\infty}^{\\infty}\\int_{-\\infty}^{\\infty}\\int_{-\\infty}^{\\infty} \\rho_1(x, y, z_1(s, s_0)) \\rho_2(x, y, z_2(s, s_0))$ dx dy ds d$s_0$\n",
    "\\\n",
    "where $s_0 = $ ct\\\n",
    "and:\\\n",
    "$s = \\frac{z_1 - z_2}{2}$\\\n",
    "$t = -\\frac{z_1 + z_2}{2c} = \\frac{s_0}{c}$\n",
    "\n",
    "Assume Gaussian distribution:\\\n",
    "$\\rho(x, y, z) = \\frac{1}{(2\\pi)^{3/2}\\sigma_x\\sigma_y\\sigma_z}$exp$(-\\frac{1}{2}((\\frac{x}{\\sigma_x})^2 + (\\frac{y}{\\sigma_y})^2 + (\\frac{z}{\\sigma_z})^2))$"
   ]
  },
  {
   "cell_type": "markdown",
   "metadata": {},
   "source": [
    "## Head-On Collision (Two Identical short bunches):\n",
    "$\\sigma_{x1} = \\sigma_{x2} = \\sigma_{x}$ = constant\\\n",
    "$\\sigma_{y1} = \\sigma_{y2} = \\sigma_{y}$ = constant\\\n",
    "$\\sigma_{z1} = \\sigma_{z2} = \\sigma_{z}$ = constant\n",
    "\n",
    "Then:\\\n",
    "$\\rho_1\\rho_2 = \\frac{1}{(2\\pi)^3(\\sigma_x\\sigma_y\\sigma_z)^2}$exp$(-(\\frac{x}{\\sigma_x})^2 + (\\frac{y}{\\sigma_y})^2 + \\frac{1}{2}((\\frac{z_1}{\\sigma_{z}})^2 + (\\frac{z_2}{\\sigma_{z}})^2))$\n",
    "\n",
    "$2s = z_1 - z_2$\\\n",
    "$2s_0 = -z_1 - z_2$\\\n",
    "$\\Rightarrow z_2 = -s - s_0 $and$ z_1 = s - s_0$\n",
    "\n",
    "$ \\Rightarrow \\rho_1\\rho_2 = \\frac{1}{(2\\pi)^3(\\sigma_x\\sigma_y\\sigma_z)^2}$exp$(-(\\frac{x}{\\sigma_x})^2 + (\\frac{y}{\\sigma_y})^2 + \\frac{(s + s_0)^2 + (s - s_0)^2}{2\\sigma_z^2})$\\\n",
    "$= \\frac{1}{(2\\pi)^3(\\sigma_x\\sigma_y\\sigma_z)^2}$exp$(-(\\frac{x}{\\sigma_x})^2 + (\\frac{y}{\\sigma_y})^2 + \\frac{s^2 + 2ss_0 + s_0^2 + s^2 - 2ss_0 + s_0^2}{2\\sigma_z^2})$\\\n",
    "$= \\frac{1}{(2\\pi)^3(\\sigma_x\\sigma_y\\sigma_z)^2}$exp$(-(\\frac{x}{\\sigma_x})^2 + (\\frac{y}{\\sigma_y})^2 + (\\frac{s}{\\sigma_z})^2 + (\\frac{s_0}{\\sigma_z})^2)$\n",
    "\n",
    "And:\\\n",
    "$\\Rightarrow L = \n",
    "2fN_1N_2\\int_{-\\infty}^{\\infty}\\int_{-\\infty}^{\\infty}\\int_{-\\infty}^{\\infty}\\int_{-\\infty}^{\\infty}\n",
    "\\frac{1}{(2\\pi)^3(\\sigma_x\\sigma_y\\sigma_z)^2}$exp$(-(\\frac{x}{\\sigma_x})^2 + (\\frac{y}{\\sigma_y})^2 + (\\frac{s}{\\sigma_z})^2 + (\\frac{s_0}{\\sigma_z})^2)$ dx dy ds d$s_0$\\\n",
    "$ = \\frac{fN_1N_2}{4\\pi\\sigma_x\\sigma_y}$\n",
    "\n",
    "## Two different short bunches:\n",
    "$\\sigma_{x1} \\neq \\sigma_{x2}$\\\n",
    "$\\sigma_{y1} \\neq \\sigma_{y2}$\\\n",
    "$\\sigma_{z1} = \\sigma_{z2} = \\sigma_{z}$\n",
    "\n",
    "RMS = $\\sqrt{\\frac{1}{n}\\sum_ix_i^2}$\\\n",
    "$\\Rightarrow \\sigma_i = \\sqrt{\\frac{1}{2}(\\sigma_{i1}^2 + \\sigma_{i2}^2)}$\n",
    "$\\Rightarrow L = \\frac{fN_1N_2}{4\\pi\\sqrt{\\frac{1}{2}(\\sigma_{x1}^2 + \\sigma_{x2}^2)}\\sqrt{\\frac{1}{2}(\\sigma_{y1}^2 + \\sigma_{y2}^2)}}$\n",
    "$= \\frac{fN_1N_2}{2\\pi\\sqrt{\\sigma_{x1}^2 + \\sigma_{x2}^2}\\sqrt{\\sigma_{y1}^2 + \\sigma_{y2}^2}}$"
   ]
  },
  {
   "cell_type": "code",
   "execution_count": 2,
   "metadata": {},
   "outputs": [],
   "source": [
    "def gaussians(x, y, s, s0, sx, sy, sz):\n",
    "    return np.exp(- ((x/sx)**2 + (y/sy)**2 + (s/sz)**2 + (s0/sz)**2))/((2*np.pi)**3*(sx*sy*sz)**2)"
   ]
  },
  {
   "cell_type": "code",
   "execution_count": 3,
   "metadata": {},
   "outputs": [],
   "source": [
    "# Initial conditions\n",
    "f = 1\n",
    "N1 = 1\n",
    "N2 = 1\n",
    "sx = 1\n",
    "sy = 1\n",
    "sz = 1\n",
    "N = 50\n",
    "a = -2\n",
    "b = 2\n",
    "\n",
    "bounds = np.linspace(a, b, N + 1)\n",
    "N_bounds = len(bounds)\n",
    "h = (b - a)/N_bounds # dx = dy = ds = ds0 = h"
   ]
  },
  {
   "cell_type": "markdown",
   "metadata": {},
   "source": [
    "## 1. No Integral"
   ]
  },
  {
   "cell_type": "code",
   "execution_count": 7,
   "metadata": {},
   "outputs": [
    {
     "name": "stdout",
     "output_type": "stream",
     "text": [
      "Luminosity from two identical short bunches: 0.07957747154594767\n"
     ]
    }
   ],
   "source": [
    "# Luminosity from Lecture Notes\n",
    "# Assuming gaussian distribution and are\n",
    "# Two identical short bunches\n",
    "L0 = f*N1*N2/(4*np.pi*sx*sy)\n",
    "print(\"Luminosity from two identical short bunches:\", L0)"
   ]
  },
  {
   "cell_type": "markdown",
   "metadata": {},
   "source": [
    "## 2. Scipy"
   ]
  },
  {
   "cell_type": "code",
   "execution_count": 8,
   "metadata": {},
   "outputs": [
    {
     "name": "stdout",
     "output_type": "stream",
     "text": [
      "Scipy integral:  0.07809891721978793\n",
      "Time elapsed for scipy integral: 0.7418880462646484 seconds\n"
     ]
    }
   ],
   "source": [
    "# Using Scipy\n",
    "# https://docs.scipy.org/doc/scipy/reference/generated/scipy.integrate.nquad.html#scipy.integrate.nquad\n",
    "begin = time.time()\n",
    "scipy_int = integrate.nquad(gaussians, [[a,b], [a,b], [a,b], [a,b]], args = (sx, sy, sz))[0]\n",
    "print(\"Scipy integral: \", 2*f*N1*N2*scipy_int)\n",
    "end = time.time()\n",
    "print(\"Time elapsed for scipy integral:\", end - begin, \"seconds\")"
   ]
  },
  {
   "cell_type": "markdown",
   "metadata": {},
   "source": [
    "## 3. Four For-Loops"
   ]
  },
  {
   "cell_type": "code",
   "execution_count": 178,
   "metadata": {},
   "outputs": [],
   "source": [
    "# Luminosity using four integrals\n",
    "def luminosity_naive(f, N1, N2, bounds, h, sx, sy, sz):\n",
    "    integral = 0\n",
    "    for x in bounds:\n",
    "        for y in bounds:\n",
    "            for s in bounds:\n",
    "                for s0 in bounds:\n",
    "                    integral += gaussians(x, y, s, s0, sx, sy, sz)*h**4\n",
    "    return 2*f*N1*N2*integral"
   ]
  },
  {
   "cell_type": "code",
   "execution_count": 179,
   "metadata": {},
   "outputs": [
    {
     "name": "stdout",
     "output_type": "stream",
     "text": [
      "Luminosity = 0.07237852995336803\n",
      "Time elapsed for luminosity_naive: 55.29115009307861 seconds\n"
     ]
    }
   ],
   "source": [
    "# ONLY RUN IF CURIOUS\n",
    "# for bounds = np.linspace(-2, 2, 51)\n",
    "begin = time.time()\n",
    "L1 = luminosity_naive(f, N1, N2, bounds, h, sx, sy, sz)\n",
    "print(\"Luminosity =\", L1)\n",
    "end = time.time()\n",
    "print(\"Time elapsed for luminosity_naive:\", end - begin, \"seconds\")"
   ]
  },
  {
   "cell_type": "markdown",
   "metadata": {},
   "source": [
    "## 4. np.meshgrid"
   ]
  },
  {
   "cell_type": "code",
   "execution_count": 275,
   "metadata": {},
   "outputs": [],
   "source": [
    "grid = np.meshgrid(bounds, bounds, bounds, bounds)\n",
    "X, Y, S, S0 = grid\n",
    "\n",
    "def luminosity2(f, N1, N2, grid, N_bounds, h, sx, sy, sz):\n",
    "    Integral = np.zeros([N_bounds, N_bounds, N_bounds, N_bounds])\n",
    "    X, Y, S, S0 = grid\n",
    "    \n",
    "    integral = np.sum(gaussians(X, Y, S, S0, sx, sy, sz))*h**4\n",
    "    return 2*f*N1*N2*integral"
   ]
  },
  {
   "cell_type": "code",
   "execution_count": 276,
   "metadata": {},
   "outputs": [
    {
     "name": "stdout",
     "output_type": "stream",
     "text": [
      "Luminosity = 0.07237852995346418\n",
      "Time elapsed for luminosity2: 1.3200109004974365 seconds\n"
     ]
    }
   ],
   "source": [
    "begin = time.time()\n",
    "L2 = luminosity2(f, N1, N2, grid, N_bounds, h, sx, sy, sz)\n",
    "print(\"Luminosity =\", L2)\n",
    "end = time.time()\n",
    "print(\"Time elapsed for luminosity2:\", end - begin, \"seconds\")"
   ]
  },
  {
   "cell_type": "markdown",
   "metadata": {},
   "source": [
    "## 5. Radial Integral (Two For-Loops)\n",
    "\n",
    "For a gaussian distribution:\\\n",
    "$\\rho_1\\rho_2 = \\frac{1}{(2\\pi)^3(\\sigma_x\\sigma_y\\sigma_z)^2}$exp$(-(\\frac{x}{\\sigma_x})^2 + (\\frac{y}{\\sigma_y})^2 + (\\frac{s}{\\sigma_z})^2 + (\\frac{s_0}{\\sigma_z})^2)$\n",
    "\n",
    "Assuming Gaussian is the same in all directions: $\\sigma_x = \\sigma_y = \\sigma_z$\n",
    "\n",
    "$= \\frac{1}{(2\\pi)^3\\sigma_z^6}$exp$(-(\\frac{x^2 + y^2 + s^2}{\\sigma_z})^2 + (\\frac{s_0}{\\sigma_z})^2)$\n",
    "\n",
    "Spherical coordinates: $r^2 = x^2 + y^2 + s^2$\n",
    "\n",
    "Then the product simplifies to:\\\n",
    "$\\rho_1\\rho_2 = \\frac{1}{(2\\pi)^3\\sigma_z^6}$exp$(-((\\frac{r}{\\sigma_z})^2 + (\\frac{s_0}{\\sigma_z})^2))$\n",
    "\n",
    "And the integral becomes:\\\n",
    "$L = 2fN_1N_2\\int_{-\\infty}^{\\infty}\\int_{-\\infty}^{\\infty}\\int_{-\\infty}^{\\infty}\\int_{-\\infty}^{\\infty} \\rho_1(x, y, z_1(s, s_0)) \\rho_2(x, y, z_2(s, s_0)) dx dy ds ds_0$\\\n",
    "$= 2fN_1N_2\\int_{-\\infty}^{\\infty}\\int_{0}^{\\pi}\\int_{0}^{2\\pi}\\int_{0}^{\\infty} \\frac{r^2 sin\\theta}{(2\\pi)^3\\sigma_z^6}$exp$(-((\\frac{r}{\\sigma_z})^2 + (\\frac{s_0}{\\sigma_z})^2)) dr d\\phi d\\theta ds_0$\\\n",
    "$= 2fN_1N_2(4\\pi)\\int_{-\\infty}^{\\infty}\\int_{0}^{\\infty} \\frac{r^2}{(2\\pi)^3\\sigma_z^6}$exp$(-((\\frac{r}{\\sigma_z})^2 + (\\frac{s_0}{\\sigma_z})^2)) dr ds_0$"
   ]
  },
  {
   "cell_type": "code",
   "execution_count": 283,
   "metadata": {},
   "outputs": [],
   "source": [
    "def gaussiansR(r, s0, sz):\n",
    "    return np.exp(- ((r/sz)**2 + (s0/sz)**2))/((2*np.pi)**3*sz**6)\n",
    "\n",
    "def luminosity3(f, N1, N2, bounds, h, sz):\n",
    "    X, Y, S = bounds/sx, bounds/sy, bounds/sz\n",
    "    R = np.sqrt(X**2 + Y**2 + S**2)\n",
    "    # dr = sqrt(dx^2 + dy^2 + ds^2) = sqrt(3h^2) = sqrt(3)h\n",
    "    hr = np.sqrt(3)*h\n",
    "    integral = 0\n",
    "    for r in R[len(bounds)//2 + 1:]:\n",
    "        for s0 in bounds:\n",
    "            integral += r**2*gaussiansR(r, s0, sz)*h*hr\n",
    "                \n",
    "    return 2*f*N1*N2*(4*np.pi*integral)"
   ]
  },
  {
   "cell_type": "code",
   "execution_count": 284,
   "metadata": {},
   "outputs": [
    {
     "name": "stdout",
     "output_type": "stream",
     "text": [
      "Luminosity = 0.07618830314513655\n",
      "Time elapsed for luminosity3: 0.020689964294433594 seconds\n",
      "This somehow runs faster than most of them idk why\n"
     ]
    }
   ],
   "source": [
    "begin = time.time()\n",
    "L3 = luminosity3(f, N1, N2, bounds, h, sz)\n",
    "print(\"Luminosity =\", L3)\n",
    "end = time.time()\n",
    "print(\"Time elapsed for luminosity3:\", end - begin, \"seconds\")\n",
    "print(\"This somehow runs faster than most of them idk why\")"
   ]
  },
  {
   "cell_type": "markdown",
   "metadata": {},
   "source": [
    "## 6. Elliptical Integral (Two For-Loops)\n",
    "\n",
    "For a gaussian distribution:\\\n",
    "$\\rho_1\\rho_2 = \\frac{1}{(2\\pi)^3(\\sigma_x\\sigma_y\\sigma_z)^2}$exp$(-(\\frac{x}{\\sigma_x})^2 + (\\frac{y}{\\sigma_y})^2 + (\\frac{s}{\\sigma_z})^2 + (\\frac{s_0}{\\sigma_z})^2)$\n",
    "\n",
    "$x' = \\frac{x}{\\sigma_x}, y' = \\frac{x}{\\sigma_x}, s' = \\frac{x}{\\sigma_x}$ can be coupled to form a \"sphere\" in prime space: $r^2 = x'^2 + y'^2 + s'^2$\n",
    "\n",
    "Then the product simplifies to:\\\n",
    "$\\rho_1\\rho_2 = \\frac{1}{(2\\pi)^3(\\sigma_x\\sigma_y\\sigma_z)^2}$exp$(-(r^2 + (\\frac{s_0}{\\sigma_z})^2))$\n",
    "\n",
    "And the integral becomes:\\\n",
    "$L = 2fN_1N_2\\int_{-\\infty}^{\\infty}\\int_{-\\infty}^{\\infty}\\int_{-\\infty}^{\\infty}\\int_{-\\infty}^{\\infty} \\rho_1(x, y, z_1(s, s_0)) \\rho_2(x, y, z_2(s, s_0)) dx dy ds ds_0$\\\n",
    "$= 2fN_1N_2\\int_{-\\infty}^{\\infty}\\int_{0}^{\\pi}\\int_{0}^{2\\pi}\\int_{0}^{\\infty} \\frac{r^2 sin\\theta}{(2\\pi)^3(\\sigma_x\\sigma_y\\sigma_z)^2}$exp$(-(r^2 + (\\frac{s_0}{\\sigma_z})^2)) dr d\\theta d\\phi ds_0$\\\n",
    "$= 2fN_1N_2(4\\pi)\\int_{-\\infty}^{\\infty}\\int_{0}^{\\infty} \\frac{r^2}{(2\\pi)^3(\\sigma_x\\sigma_y\\sigma_z)^2}$exp$(-(r^2 + (\\frac{s_0}{\\sigma_z})^2)) dr ds_0$"
   ]
  },
  {
   "cell_type": "code",
   "execution_count": null,
   "metadata": {},
   "outputs": [],
   "source": []
  }
 ],
 "metadata": {
  "kernelspec": {
   "display_name": "Python 3",
   "language": "python",
   "name": "python3"
  },
  "language_info": {
   "codemirror_mode": {
    "name": "ipython",
    "version": 3
   },
   "file_extension": ".py",
   "mimetype": "text/x-python",
   "name": "python",
   "nbconvert_exporter": "python",
   "pygments_lexer": "ipython3",
   "version": "3.7.3"
  }
 },
 "nbformat": 4,
 "nbformat_minor": 2
}
